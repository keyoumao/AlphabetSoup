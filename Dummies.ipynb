{
 "cells": [
  {
   "cell_type": "code",
   "execution_count": 1,
   "metadata": {},
   "outputs": [
    {
     "name": "stderr",
     "output_type": "stream",
     "text": [
      "C:\\Users\\Kayla Yano\\anaconda3\\envs\\PythonData\\lib\\site-packages\\tensorflow\\python\\framework\\dtypes.py:516: FutureWarning: Passing (type, 1) or '1type' as a synonym of type is deprecated; in a future version of numpy, it will be understood as (type, (1,)) / '(1,)type'.\n",
      "  _np_qint8 = np.dtype([(\"qint8\", np.int8, 1)])\n",
      "C:\\Users\\Kayla Yano\\anaconda3\\envs\\PythonData\\lib\\site-packages\\tensorflow\\python\\framework\\dtypes.py:517: FutureWarning: Passing (type, 1) or '1type' as a synonym of type is deprecated; in a future version of numpy, it will be understood as (type, (1,)) / '(1,)type'.\n",
      "  _np_quint8 = np.dtype([(\"quint8\", np.uint8, 1)])\n",
      "C:\\Users\\Kayla Yano\\anaconda3\\envs\\PythonData\\lib\\site-packages\\tensorflow\\python\\framework\\dtypes.py:518: FutureWarning: Passing (type, 1) or '1type' as a synonym of type is deprecated; in a future version of numpy, it will be understood as (type, (1,)) / '(1,)type'.\n",
      "  _np_qint16 = np.dtype([(\"qint16\", np.int16, 1)])\n",
      "C:\\Users\\Kayla Yano\\anaconda3\\envs\\PythonData\\lib\\site-packages\\tensorflow\\python\\framework\\dtypes.py:519: FutureWarning: Passing (type, 1) or '1type' as a synonym of type is deprecated; in a future version of numpy, it will be understood as (type, (1,)) / '(1,)type'.\n",
      "  _np_quint16 = np.dtype([(\"quint16\", np.uint16, 1)])\n",
      "C:\\Users\\Kayla Yano\\anaconda3\\envs\\PythonData\\lib\\site-packages\\tensorflow\\python\\framework\\dtypes.py:520: FutureWarning: Passing (type, 1) or '1type' as a synonym of type is deprecated; in a future version of numpy, it will be understood as (type, (1,)) / '(1,)type'.\n",
      "  _np_qint32 = np.dtype([(\"qint32\", np.int32, 1)])\n",
      "C:\\Users\\Kayla Yano\\anaconda3\\envs\\PythonData\\lib\\site-packages\\tensorflow\\python\\framework\\dtypes.py:525: FutureWarning: Passing (type, 1) or '1type' as a synonym of type is deprecated; in a future version of numpy, it will be understood as (type, (1,)) / '(1,)type'.\n",
      "  np_resource = np.dtype([(\"resource\", np.ubyte, 1)])\n",
      "C:\\Users\\Kayla Yano\\anaconda3\\envs\\PythonData\\lib\\site-packages\\tensorboard\\compat\\tensorflow_stub\\dtypes.py:541: FutureWarning: Passing (type, 1) or '1type' as a synonym of type is deprecated; in a future version of numpy, it will be understood as (type, (1,)) / '(1,)type'.\n",
      "  _np_qint8 = np.dtype([(\"qint8\", np.int8, 1)])\n",
      "C:\\Users\\Kayla Yano\\anaconda3\\envs\\PythonData\\lib\\site-packages\\tensorboard\\compat\\tensorflow_stub\\dtypes.py:542: FutureWarning: Passing (type, 1) or '1type' as a synonym of type is deprecated; in a future version of numpy, it will be understood as (type, (1,)) / '(1,)type'.\n",
      "  _np_quint8 = np.dtype([(\"quint8\", np.uint8, 1)])\n",
      "C:\\Users\\Kayla Yano\\anaconda3\\envs\\PythonData\\lib\\site-packages\\tensorboard\\compat\\tensorflow_stub\\dtypes.py:543: FutureWarning: Passing (type, 1) or '1type' as a synonym of type is deprecated; in a future version of numpy, it will be understood as (type, (1,)) / '(1,)type'.\n",
      "  _np_qint16 = np.dtype([(\"qint16\", np.int16, 1)])\n",
      "C:\\Users\\Kayla Yano\\anaconda3\\envs\\PythonData\\lib\\site-packages\\tensorboard\\compat\\tensorflow_stub\\dtypes.py:544: FutureWarning: Passing (type, 1) or '1type' as a synonym of type is deprecated; in a future version of numpy, it will be understood as (type, (1,)) / '(1,)type'.\n",
      "  _np_quint16 = np.dtype([(\"quint16\", np.uint16, 1)])\n",
      "C:\\Users\\Kayla Yano\\anaconda3\\envs\\PythonData\\lib\\site-packages\\tensorboard\\compat\\tensorflow_stub\\dtypes.py:545: FutureWarning: Passing (type, 1) or '1type' as a synonym of type is deprecated; in a future version of numpy, it will be understood as (type, (1,)) / '(1,)type'.\n",
      "  _np_qint32 = np.dtype([(\"qint32\", np.int32, 1)])\n",
      "C:\\Users\\Kayla Yano\\anaconda3\\envs\\PythonData\\lib\\site-packages\\tensorboard\\compat\\tensorflow_stub\\dtypes.py:550: FutureWarning: Passing (type, 1) or '1type' as a synonym of type is deprecated; in a future version of numpy, it will be understood as (type, (1,)) / '(1,)type'.\n",
      "  np_resource = np.dtype([(\"resource\", np.ubyte, 1)])\n"
     ]
    }
   ],
   "source": [
    "# Import our dependencies\n",
    "import pandas as pd\n",
    "import matplotlib as plt\n",
    "from sklearn.datasets import make_blobs\n",
    "import sklearn as skl\n",
    "import tensorflow as tf"
   ]
  },
  {
   "cell_type": "code",
   "execution_count": 2,
   "metadata": {},
   "outputs": [
    {
     "data": {
      "text/plain": [
       "<matplotlib.axes._subplots.AxesSubplot at 0x25991aa4388>"
      ]
     },
     "execution_count": 2,
     "metadata": {},
     "output_type": "execute_result"
    },
    {
     "data": {
      "image/png": "[encoded data removed]",
      "text/plain": [
       "<Figure size 432x288 with 2 Axes>"
      ]
     },
     "metadata": {
      "needs_background": "light"
     },
     "output_type": "display_data"
    }
   ],
   "source": [
    "# Generate dummy dataset\n",
    "X, y = make_blobs(n_samples=1000, centers=2, n_features=2, random_state=78)\n",
    "\n",
    "# Creating a DataFrame with the dummy data\n",
    "df = pd.DataFrame(X, columns=[\"Feature 1\", \"Feature 2\"])\n",
    "df[\"Target\"] = y\n",
    "\n",
    "# Plotting the dummy data\n",
    "df.plot.scatter(x=\"Feature 1\", y=\"Feature 2\", c=\"Target\", colormap=\"winter\")\n"
   ]
  },
  {
   "cell_type": "code",
   "execution_count": 3,
   "metadata": {},
   "outputs": [],
   "source": [
    "# Use sklearn to split dataset\n",
    "from sklearn.model_selection import train_test_split\n",
    "X_train, X_test, y_train, y_test = train_test_split(X, y, random_state=78)"
   ]
  },
  {
   "cell_type": "code",
   "execution_count": 4,
   "metadata": {},
   "outputs": [],
   "source": [
    "# Create scaler instance\n",
    "X_scaler = skl.preprocessing.StandardScaler()\n",
    "\n",
    "# Fit the scaler\n",
    "X_scaler.fit(X_train)\n",
    "\n",
    "# Scale the data\n",
    "X_train_scaled = X_scaler.transform(X_train)\n",
    "X_test_scaled = X_scaler.transform(X_test)"
   ]
  },
  {
   "cell_type": "code",
   "execution_count": 5,
   "metadata": {},
   "outputs": [],
   "source": [
    "# Create the Keras Sequential model\n",
    "nn_model = tf.keras.models.Sequential()"
   ]
  },
  {
   "cell_type": "code",
   "execution_count": 6,
   "metadata": {},
   "outputs": [
    {
     "name": "stdout",
     "output_type": "stream",
     "text": [
      "WARNING:tensorflow:From C:\\Users\\Kayla Yano\\anaconda3\\envs\\PythonData\\lib\\site-packages\\tensorflow\\python\\ops\\init_ops.py:1251: calling VarianceScaling.__init__ (from tensorflow.python.ops.init_ops) with dtype is deprecated and will be removed in a future version.\n",
      "Instructions for updating:\n",
      "Call initializer instance with the dtype argument instead of passing it to the constructor\n"
     ]
    }
   ],
   "source": [
    "# Add our first Dense layer, including the input layer\n",
    "nn_model.add(tf.keras.layers.Dense(units=1, activation=\"relu\", input_dim=2))"
   ]
  },
  {
   "cell_type": "code",
   "execution_count": 7,
   "metadata": {},
   "outputs": [],
   "source": [
    "# Add the output layer that uses a probability activation function\n",
    "nn_model.add(tf.keras.layers.Dense(units=1, activation=\"sigmoid\"))"
   ]
  },
  {
   "cell_type": "code",
   "execution_count": 8,
   "metadata": {},
   "outputs": [
    {
     "name": "stdout",
     "output_type": "stream",
     "text": [
      "Model: \"sequential\"\n",
      "_________________________________________________________________\n",
      "Layer (type)                 Output Shape              Param #   \n",
      "=================================================================\n",
      "dense (Dense)                (None, 1)                 3         \n",
      "_________________________________________________________________\n",
      "dense_1 (Dense)              (None, 1)                 2         \n",
      "=================================================================\n",
      "Total params: 5\n",
      "Trainable params: 5\n",
      "Non-trainable params: 0\n",
      "_________________________________________________________________\n"
     ]
    }
   ],
   "source": [
    "# Check the structure of the Sequential model\n",
    "nn_model.summary()"
   ]
  },
  {
   "cell_type": "code",
   "execution_count": 9,
   "metadata": {},
   "outputs": [
    {
     "name": "stdout",
     "output_type": "stream",
     "text": [
      "WARNING:tensorflow:From C:\\Users\\Kayla Yano\\anaconda3\\envs\\PythonData\\lib\\site-packages\\tensorflow\\python\\ops\\nn_impl.py:180: add_dispatch_support.<locals>.wrapper (from tensorflow.python.ops.array_ops) is deprecated and will be removed in a future version.\n",
      "Instructions for updating:\n",
      "Use tf.where in 2.0, which has the same broadcast rule as np.where\n"
     ]
    }
   ],
   "source": [
    "# Compile the Sequential model together and customize metrics\n",
    "nn_model.compile(loss=\"binary_crossentropy\", optimizer=\"adam\", metrics=[\"accuracy\"])\n"
   ]
  },
  {
   "cell_type": "code",
   "execution_count": 10,
   "metadata": {},
   "outputs": [
    {
     "name": "stdout",
     "output_type": "stream",
     "text": [
      "Epoch 1/100\n",
      "750/750 [==============================] - 0s 155us/sample - loss: 1.1633 - acc: 0.0000e+00\n",
      "Epoch 2/100\n",
      "750/750 [==============================] - 0s 31us/sample - loss: 1.1216 - acc: 0.0000e+00\n",
      "Epoch 3/100\n",
      "750/750 [==============================] - 0s 32us/sample - loss: 1.0822 - acc: 0.0000e+00\n",
      "Epoch 4/100\n",
      "750/750 [==============================] - 0s 35us/sample - loss: 1.0468 - acc: 0.0000e+00\n",
      "Epoch 5/100\n",
      "750/750 [==============================] - 0s 28us/sample - loss: 1.0137 - acc: 0.0013\n",
      "Epoch 6/100\n",
      "750/750 [==============================] - 0s 35us/sample - loss: 0.9839 - acc: 0.0013\n",
      "Epoch 7/100\n",
      "750/750 [==============================] - 0s 28us/sample - loss: 0.9569 - acc: 0.0027\n",
      "Epoch 8/100\n",
      "750/750 [==============================] - 0s 32us/sample - loss: 0.9319 - acc: 0.0040\n",
      "Epoch 9/100\n",
      "750/750 [==============================] - 0s 26us/sample - loss: 0.9086 - acc: 0.0067\n",
      "Epoch 10/100\n",
      "750/750 [==============================] - 0s 33us/sample - loss: 0.8878 - acc: 0.0067\n",
      "Epoch 11/100\n",
      "750/750 [==============================] - 0s 73us/sample - loss: 0.8688 - acc: 0.0080\n",
      "Epoch 12/100\n",
      "750/750 [==============================] - 0s 40us/sample - loss: 0.8514 - acc: 0.0093\n",
      "Epoch 13/100\n",
      "750/750 [==============================] - 0s 28us/sample - loss: 0.8348 - acc: 0.0173\n",
      "Epoch 14/100\n",
      "750/750 [==============================] - 0s 39us/sample - loss: 0.8196 - acc: 0.0293\n",
      "Epoch 15/100\n",
      "750/750 [==============================] - 0s 29us/sample - loss: 0.8060 - acc: 0.0440\n",
      "Epoch 16/100\n",
      "750/750 [==============================] - 0s 39us/sample - loss: 0.7931 - acc: 0.0667\n",
      "Epoch 17/100\n",
      "750/750 [==============================] - 0s 28us/sample - loss: 0.7812 - acc: 0.0893\n",
      "Epoch 18/100\n",
      "750/750 [==============================] - 0s 28us/sample - loss: 0.7700 - acc: 0.1187\n",
      "Epoch 19/100\n",
      "750/750 [==============================] - 0s 33us/sample - loss: 0.7592 - acc: 0.1520\n",
      "Epoch 20/100\n",
      "750/750 [==============================] - 0s 35us/sample - loss: 0.7493 - acc: 0.1920\n",
      "Epoch 21/100\n",
      "750/750 [==============================] - 0s 31us/sample - loss: 0.7400 - acc: 0.2400\n",
      "Epoch 22/100\n",
      "750/750 [==============================] - 0s 27us/sample - loss: 0.7315 - acc: 0.2987\n",
      "Epoch 23/100\n",
      "750/750 [==============================] - 0s 35us/sample - loss: 0.7236 - acc: 0.3560\n",
      "Epoch 24/100\n",
      "750/750 [==============================] - 0s 32us/sample - loss: 0.7166 - acc: 0.4107\n",
      "Epoch 25/100\n",
      "750/750 [==============================] - 0s 31us/sample - loss: 0.7104 - acc: 0.4587\n",
      "Epoch 26/100\n",
      "750/750 [==============================] - 0s 33us/sample - loss: 0.7052 - acc: 0.4907\n",
      "Epoch 27/100\n",
      "750/750 [==============================] - 0s 28us/sample - loss: 0.7014 - acc: 0.4987\n",
      "Epoch 28/100\n",
      "750/750 [==============================] - 0s 32us/sample - loss: 0.6988 - acc: 0.5053\n",
      "Epoch 29/100\n",
      "750/750 [==============================] - 0s 29us/sample - loss: 0.6969 - acc: 0.5053\n",
      "Epoch 30/100\n",
      "750/750 [==============================] - 0s 40us/sample - loss: 0.6958 - acc: 0.5053\n",
      "Epoch 31/100\n",
      "750/750 [==============================] - 0s 29us/sample - loss: 0.6951 - acc: 0.5067\n",
      "Epoch 32/100\n",
      "750/750 [==============================] - 0s 28us/sample - loss: 0.6947 - acc: 0.5067\n",
      "Epoch 33/100\n",
      "750/750 [==============================] - 0s 33us/sample - loss: 0.6944 - acc: 0.5067\n",
      "Epoch 34/100\n",
      "750/750 [==============================] - 0s 32us/sample - loss: 0.6942 - acc: 0.5067\n",
      "Epoch 35/100\n",
      "750/750 [==============================] - 0s 28us/sample - loss: 0.6941 - acc: 0.5067\n",
      "Epoch 36/100\n",
      "750/750 [==============================] - 0s 27us/sample - loss: 0.6940 - acc: 0.5067\n",
      "Epoch 37/100\n",
      "750/750 [==============================] - 0s 28us/sample - loss: 0.6939 - acc: 0.5067\n",
      "Epoch 38/100\n",
      "750/750 [==============================] - 0s 35us/sample - loss: 0.6937 - acc: 0.5067\n",
      "Epoch 39/100\n",
      "750/750 [==============================] - 0s 67us/sample - loss: 0.6937 - acc: 0.5067\n",
      "Epoch 40/100\n",
      "750/750 [==============================] - 0s 36us/sample - loss: 0.6936 - acc: 0.5067\n",
      "Epoch 41/100\n",
      "750/750 [==============================] - 0s 44us/sample - loss: 0.6935 - acc: 0.5067\n",
      "Epoch 42/100\n",
      "750/750 [==============================] - 0s 29us/sample - loss: 0.6935 - acc: 0.5067\n",
      "Epoch 43/100\n",
      "750/750 [==============================] - 0s 33us/sample - loss: 0.6934 - acc: 0.5067\n",
      "Epoch 44/100\n",
      "750/750 [==============================] - 0s 31us/sample - loss: 0.6934 - acc: 0.5067\n",
      "Epoch 45/100\n",
      "750/750 [==============================] - 0s 28us/sample - loss: 0.6934 - acc: 0.5067\n",
      "Epoch 46/100\n",
      "750/750 [==============================] - 0s 32us/sample - loss: 0.6933 - acc: 0.5067\n",
      "Epoch 47/100\n",
      "750/750 [==============================] - 0s 31us/sample - loss: 0.6933 - acc: 0.5067\n",
      "Epoch 48/100\n",
      "750/750 [==============================] - 0s 36us/sample - loss: 0.6933 - acc: 0.5067\n",
      "Epoch 49/100\n",
      "750/750 [==============================] - 0s 25us/sample - loss: 0.6933 - acc: 0.5067\n",
      "Epoch 50/100\n",
      "750/750 [==============================] - 0s 31us/sample - loss: 0.6932 - acc: 0.5067\n",
      "Epoch 51/100\n",
      "750/750 [==============================] - 0s 28us/sample - loss: 0.6932 - acc: 0.5067\n",
      "Epoch 52/100\n",
      "750/750 [==============================] - 0s 33us/sample - loss: 0.6932 - acc: 0.5067\n",
      "Epoch 53/100\n",
      "750/750 [==============================] - 0s 33us/sample - loss: 0.6932 - acc: 0.5067\n",
      "Epoch 54/100\n",
      "750/750 [==============================] - 0s 32us/sample - loss: 0.6932 - acc: 0.5067\n",
      "Epoch 55/100\n",
      "750/750 [==============================] - 0s 33us/sample - loss: 0.6932 - acc: 0.5067\n",
      "Epoch 56/100\n",
      "750/750 [==============================] - 0s 33us/sample - loss: 0.6932 - acc: 0.5067\n",
      "Epoch 57/100\n",
      "750/750 [==============================] - 0s 31us/sample - loss: 0.6931 - acc: 0.5067\n",
      "Epoch 58/100\n",
      "750/750 [==============================] - 0s 32us/sample - loss: 0.6931 - acc: 0.5067\n",
      "Epoch 59/100\n",
      "750/750 [==============================] - 0s 28us/sample - loss: 0.6931 - acc: 0.5067\n",
      "Epoch 60/100\n",
      "750/750 [==============================] - 0s 29us/sample - loss: 0.6931 - acc: 0.5067\n",
      "Epoch 61/100\n",
      "750/750 [==============================] - 0s 28us/sample - loss: 0.6931 - acc: 0.5067\n",
      "Epoch 62/100\n",
      "750/750 [==============================] - 0s 29us/sample - loss: 0.6931 - acc: 0.5067\n",
      "Epoch 63/100\n",
      "750/750 [==============================] - 0s 25us/sample - loss: 0.6931 - acc: 0.5067\n",
      "Epoch 64/100\n",
      "750/750 [==============================] - 0s 31us/sample - loss: 0.6931 - acc: 0.5067\n",
      "Epoch 65/100\n",
      "750/750 [==============================] - 0s 27us/sample - loss: 0.6931 - acc: 0.5067\n",
      "Epoch 66/100\n",
      "750/750 [==============================] - 0s 31us/sample - loss: 0.6931 - acc: 0.5067\n",
      "Epoch 67/100\n",
      "750/750 [==============================] - 0s 29us/sample - loss: 0.6931 - acc: 0.5067\n",
      "Epoch 68/100\n",
      "750/750 [==============================] - 0s 29us/sample - loss: 0.6931 - acc: 0.5067\n",
      "Epoch 69/100\n",
      "750/750 [==============================] - 0s 31us/sample - loss: 0.6931 - acc: 0.5067\n",
      "Epoch 70/100\n",
      "750/750 [==============================] - 0s 28us/sample - loss: 0.6931 - acc: 0.5067\n",
      "Epoch 71/100\n",
      "750/750 [==============================] - 0s 31us/sample - loss: 0.6931 - acc: 0.5067\n",
      "Epoch 72/100\n",
      "750/750 [==============================] - 0s 28us/sample - loss: 0.6931 - acc: 0.5067\n",
      "Epoch 73/100\n",
      "750/750 [==============================] - 0s 31us/sample - loss: 0.6931 - acc: 0.5067\n",
      "Epoch 74/100\n",
      "750/750 [==============================] - 0s 28us/sample - loss: 0.6931 - acc: 0.5067\n",
      "Epoch 75/100\n",
      "750/750 [==============================] - 0s 31us/sample - loss: 0.6931 - acc: 0.5067\n",
      "Epoch 76/100\n",
      "750/750 [==============================] - 0s 31us/sample - loss: 0.6931 - acc: 0.5067\n",
      "Epoch 77/100\n",
      "750/750 [==============================] - 0s 32us/sample - loss: 0.6931 - acc: 0.5067\n",
      "Epoch 78/100\n",
      "750/750 [==============================] - 0s 29us/sample - loss: 0.6931 - acc: 0.5067\n",
      "Epoch 79/100\n",
      "750/750 [==============================] - 0s 33us/sample - loss: 0.6931 - acc: 0.5067\n",
      "Epoch 80/100\n",
      "750/750 [==============================] - 0s 29us/sample - loss: 0.6931 - acc: 0.5067\n",
      "Epoch 81/100\n",
      "750/750 [==============================] - 0s 31us/sample - loss: 0.6931 - acc: 0.5067\n",
      "Epoch 82/100\n"
     ]
    },
    {
     "name": "stdout",
     "output_type": "stream",
     "text": [
      "750/750 [==============================] - 0s 28us/sample - loss: 0.6931 - acc: 0.5067\n",
      "Epoch 83/100\n",
      "750/750 [==============================] - 0s 32us/sample - loss: 0.6931 - acc: 0.5067\n",
      "Epoch 84/100\n",
      "750/750 [==============================] - 0s 28us/sample - loss: 0.6931 - acc: 0.5067\n",
      "Epoch 85/100\n",
      "750/750 [==============================] - 0s 28us/sample - loss: 0.6931 - acc: 0.5067\n",
      "Epoch 86/100\n",
      "750/750 [==============================] - 0s 31us/sample - loss: 0.6931 - acc: 0.5067\n",
      "Epoch 87/100\n",
      "750/750 [==============================] - 0s 28us/sample - loss: 0.6931 - acc: 0.5067\n",
      "Epoch 88/100\n",
      "750/750 [==============================] - 0s 29us/sample - loss: 0.6931 - acc: 0.5067\n",
      "Epoch 89/100\n",
      "750/750 [==============================] - 0s 28us/sample - loss: 0.6931 - acc: 0.5067\n",
      "Epoch 90/100\n",
      "750/750 [==============================] - 0s 31us/sample - loss: 0.6931 - acc: 0.5067\n",
      "Epoch 91/100\n",
      "750/750 [==============================] - 0s 28us/sample - loss: 0.6931 - acc: 0.5067\n",
      "Epoch 92/100\n",
      "750/750 [==============================] - 0s 31us/sample - loss: 0.6931 - acc: 0.5067\n",
      "Epoch 93/100\n",
      "750/750 [==============================] - 0s 29us/sample - loss: 0.6931 - acc: 0.5067\n",
      "Epoch 94/100\n",
      "750/750 [==============================] - 0s 33us/sample - loss: 0.6931 - acc: 0.5067\n",
      "Epoch 95/100\n",
      "750/750 [==============================] - 0s 28us/sample - loss: 0.6931 - acc: 0.5067\n",
      "Epoch 96/100\n",
      "750/750 [==============================] - 0s 31us/sample - loss: 0.6931 - acc: 0.5067\n",
      "Epoch 97/100\n",
      "750/750 [==============================] - 0s 28us/sample - loss: 0.6931 - acc: 0.5067\n",
      "Epoch 98/100\n",
      "750/750 [==============================] - 0s 29us/sample - loss: 0.6931 - acc: 0.5067\n",
      "Epoch 99/100\n",
      "750/750 [==============================] - 0s 31us/sample - loss: 0.6931 - acc: 0.5067\n",
      "Epoch 100/100\n",
      "750/750 [==============================] - 0s 28us/sample - loss: 0.6931 - acc: 0.5067\n"
     ]
    }
   ],
   "source": [
    "# Fit the model to the training data\n",
    "fit_model = nn_model.fit(X_train_scaled, y_train, epochs=100)"
   ]
  },
  {
   "cell_type": "code",
   "execution_count": 11,
   "metadata": {},
   "outputs": [
    {
     "data": {
      "text/plain": [
       "<matplotlib.axes._subplots.AxesSubplot at 0x2599350c3c8>"
      ]
     },
     "execution_count": 11,
     "metadata": {},
     "output_type": "execute_result"
    },
    {
     "data": {
      "image/png": "[encoded data removed]",
      "text/plain": [
       "<Figure size 432x288 with 1 Axes>"
      ]
     },
     "metadata": {
      "needs_background": "light"
     },
     "output_type": "display_data"
    }
   ],
   "source": [
    "# Create a DataFrame containing training history\n",
    "history_df = pd.DataFrame(fit_model.history, index=range(1,len(fit_model.history[\"loss\"])+1))\n",
    "\n",
    "# Plot the loss\n",
    "history_df.plot(y=\"loss\")"
   ]
  },
  {
   "cell_type": "code",
   "execution_count": 12,
   "metadata": {},
   "outputs": [
    {
     "data": {
      "text/plain": [
       "<matplotlib.axes._subplots.AxesSubplot at 0x2599359bf88>"
      ]
     },
     "execution_count": 12,
     "metadata": {},
     "output_type": "execute_result"
    },
    {
     "data": {
      "image/png": "[encoded data removed]",
      "text/plain": [
       "<Figure size 432x288 with 1 Axes>"
      ]
     },
     "metadata": {
      "needs_background": "light"
     },
     "output_type": "display_data"
    }
   ],
   "source": [
    "# Plot the accuracy\n",
    "history_df.plot(y=\"acc\")"
   ]
  },
  {
   "cell_type": "code",
   "execution_count": 13,
   "metadata": {},
   "outputs": [
    {
     "data": {
      "text/html": [
       "<div>\n",
       "<style scoped>\n",
       "    .dataframe tbody tr th:only-of-type {\n",
       "        vertical-align: middle;\n",
       "    }\n",
       "\n",
       "    .dataframe tbody tr th {\n",
       "        vertical-align: top;\n",
       "    }\n",
       "\n",
       "    .dataframe thead th {\n",
       "        text-align: right;\n",
       "    }\n",
       "</style>\n",
       "<table border=\"1\" class=\"dataframe\">\n",
       "  <thead>\n",
       "    <tr style=\"text-align: right;\">\n",
       "      <th></th>\n",
       "      <th>loss</th>\n",
       "      <th>acc</th>\n",
       "    </tr>\n",
       "  </thead>\n",
       "  <tbody>\n",
       "    <tr>\n",
       "      <th>1</th>\n",
       "      <td>1.163257</td>\n",
       "      <td>0.000000</td>\n",
       "    </tr>\n",
       "    <tr>\n",
       "      <th>2</th>\n",
       "      <td>1.121646</td>\n",
       "      <td>0.000000</td>\n",
       "    </tr>\n",
       "    <tr>\n",
       "      <th>3</th>\n",
       "      <td>1.082156</td>\n",
       "      <td>0.000000</td>\n",
       "    </tr>\n",
       "    <tr>\n",
       "      <th>4</th>\n",
       "      <td>1.046775</td>\n",
       "      <td>0.000000</td>\n",
       "    </tr>\n",
       "    <tr>\n",
       "      <th>5</th>\n",
       "      <td>1.013680</td>\n",
       "      <td>0.001333</td>\n",
       "    </tr>\n",
       "    <tr>\n",
       "      <th>...</th>\n",
       "      <td>...</td>\n",
       "      <td>...</td>\n",
       "    </tr>\n",
       "    <tr>\n",
       "      <th>96</th>\n",
       "      <td>0.693084</td>\n",
       "      <td>0.506667</td>\n",
       "    </tr>\n",
       "    <tr>\n",
       "      <th>97</th>\n",
       "      <td>0.693074</td>\n",
       "      <td>0.506667</td>\n",
       "    </tr>\n",
       "    <tr>\n",
       "      <th>98</th>\n",
       "      <td>0.693074</td>\n",
       "      <td>0.506667</td>\n",
       "    </tr>\n",
       "    <tr>\n",
       "      <th>99</th>\n",
       "      <td>0.693072</td>\n",
       "      <td>0.506667</td>\n",
       "    </tr>\n",
       "    <tr>\n",
       "      <th>100</th>\n",
       "      <td>0.693074</td>\n",
       "      <td>0.506667</td>\n",
       "    </tr>\n",
       "  </tbody>\n",
       "</table>\n",
       "<p>100 rows × 2 columns</p>\n",
       "</div>"
      ],
      "text/plain": [
       "         loss       acc\n",
       "1    1.163257  0.000000\n",
       "2    1.121646  0.000000\n",
       "3    1.082156  0.000000\n",
       "4    1.046775  0.000000\n",
       "5    1.013680  0.001333\n",
       "..        ...       ...\n",
       "96   0.693084  0.506667\n",
       "97   0.693074  0.506667\n",
       "98   0.693074  0.506667\n",
       "99   0.693072  0.506667\n",
       "100  0.693074  0.506667\n",
       "\n",
       "[100 rows x 2 columns]"
      ]
     },
     "execution_count": 13,
     "metadata": {},
     "output_type": "execute_result"
    }
   ],
   "source": [
    "history_df"
   ]
  },
  {
   "cell_type": "code",
   "execution_count": 14,
   "metadata": {},
   "outputs": [
    {
     "name": "stdout",
     "output_type": "stream",
     "text": [
      "250/250 - 0s - loss: 0.6940 - acc: 0.4720\n",
      "Loss: 0.6939952850341797, Accuracy: 0.47200000286102295\n"
     ]
    }
   ],
   "source": [
    "# Evaluate the model using the test data\n",
    "model_loss, model_accuracy = nn_model.evaluate(X_test_scaled,y_test,verbose=2)\n",
    "print(f\"Loss: {model_loss}, Accuracy: {model_accuracy}\")"
   ]
  },
  {
   "cell_type": "code",
   "execution_count": 15,
   "metadata": {},
   "outputs": [
    {
     "data": {
      "text/plain": [
       "array([[0],\n",
       "       [0],\n",
       "       [0],\n",
       "       [0],\n",
       "       [0],\n",
       "       [0],\n",
       "       [0],\n",
       "       [0],\n",
       "       [0],\n",
       "       [0]])"
      ]
     },
     "execution_count": 15,
     "metadata": {},
     "output_type": "execute_result"
    }
   ],
   "source": [
    "# Predict the classification of a new set of blob data\n",
    "new_X, new_Y = make_blobs(n_samples=10, centers=2, n_features=2, random_state=78)\n",
    "new_X_scaled = X_scaler.transform(new_X)\n",
    "nn_model.predict_classes(new_X_scaled)"
   ]
  },
  {
   "cell_type": "code",
   "execution_count": 16,
   "metadata": {},
   "outputs": [
    {
     "data": {
      "text/plain": [
       "<matplotlib.axes._subplots.AxesSubplot at 0x25993634108>"
      ]
     },
     "execution_count": 16,
     "metadata": {},
     "output_type": "execute_result"
    },
    {
     "data": {
      "image/png": "[encoded data removed]",
      "text/plain": [
       "<Figure size 432x288 with 2 Axes>"
      ]
     },
     "metadata": {
      "needs_background": "light"
     },
     "output_type": "display_data"
    }
   ],
   "source": [
    "from sklearn.datasets import make_moons\n",
    "\n",
    "# Creating dummy nonlinear data\n",
    "X_moons, y_moons = make_moons(n_samples=1000, noise=0.08, random_state=78)\n",
    "\n",
    "# Transforming y_moons to a vertical vector\n",
    "y_moons = y_moons.reshape(-1, 1)\n",
    "\n",
    "# Creating a DataFrame to plot the nonlinear dummy data\n",
    "df_moons = pd.DataFrame(X_moons, columns=[\"Feature 1\", \"Feature 2\"])\n",
    "df_moons[\"Target\"] = y_moons\n",
    "\n",
    "# Plot the nonlinear dummy data\n",
    "df_moons.plot.scatter(x=\"Feature 1\",y=\"Feature 2\", c=\"Target\",colormap=\"winter\")"
   ]
  },
  {
   "cell_type": "code",
   "execution_count": 17,
   "metadata": {},
   "outputs": [],
   "source": [
    "# Create training and testing sets\n",
    "X_moon_train, X_moon_test, y_moon_train, y_moon_test = train_test_split(\n",
    "    X_moons, y_moons, random_state=78\n",
    ")\n",
    "\n",
    "# Create the scaler instance\n",
    "X_moon_scaler = skl.preprocessing.StandardScaler()\n",
    "\n",
    "# Fit the scaler\n",
    "X_moon_scaler.fit(X_moon_train)\n",
    "\n",
    "# Scale the data\n",
    "X_moon_train_scaled = X_moon_scaler.transform(X_moon_train)\n",
    "X_moon_test_scaled = X_moon_scaler.transform(X_moon_test)"
   ]
  },
  {
   "cell_type": "code",
   "execution_count": 18,
   "metadata": {},
   "outputs": [
    {
     "name": "stdout",
     "output_type": "stream",
     "text": [
      "Epoch 1/100\n",
      "750/750 [==============================] - 0s 32us/sample - loss: 0.6936 - acc: 0.4893\n",
      "Epoch 2/100\n",
      "750/750 [==============================] - 0s 31us/sample - loss: 0.6929 - acc: 0.5133\n",
      "Epoch 3/100\n",
      "750/750 [==============================] - 0s 33us/sample - loss: 0.6925 - acc: 0.5267\n",
      "Epoch 4/100\n",
      "750/750 [==============================] - 0s 33us/sample - loss: 0.6922 - acc: 0.5293\n",
      "Epoch 5/100\n",
      "750/750 [==============================] - 0s 32us/sample - loss: 0.6920 - acc: 0.5307\n",
      "Epoch 6/100\n",
      "750/750 [==============================] - 0s 27us/sample - loss: 0.6919 - acc: 0.5307\n",
      "Epoch 7/100\n",
      "750/750 [==============================] - 0s 57us/sample - loss: 0.6918 - acc: 0.5307\n",
      "Epoch 8/100\n",
      "750/750 [==============================] - 0s 37us/sample - loss: 0.6918 - acc: 0.5307\n",
      "Epoch 9/100\n",
      "750/750 [==============================] - 0s 27us/sample - loss: 0.6917 - acc: 0.5307\n",
      "Epoch 10/100\n",
      "750/750 [==============================] - 0s 31us/sample - loss: 0.6917 - acc: 0.5307\n",
      "Epoch 11/100\n",
      "750/750 [==============================] - 0s 27us/sample - loss: 0.6916 - acc: 0.5307\n",
      "Epoch 12/100\n",
      "750/750 [==============================] - 0s 32us/sample - loss: 0.6916 - acc: 0.5307\n",
      "Epoch 13/100\n",
      "750/750 [==============================] - 0s 28us/sample - loss: 0.6915 - acc: 0.5307\n",
      "Epoch 14/100\n",
      "750/750 [==============================] - 0s 31us/sample - loss: 0.6915 - acc: 0.5307\n",
      "Epoch 15/100\n",
      "750/750 [==============================] - 0s 29us/sample - loss: 0.6915 - acc: 0.5307\n",
      "Epoch 16/100\n",
      "750/750 [==============================] - 0s 31us/sample - loss: 0.6914 - acc: 0.5307\n",
      "Epoch 17/100\n",
      "750/750 [==============================] - 0s 27us/sample - loss: 0.6914 - acc: 0.5307\n",
      "Epoch 18/100\n",
      "750/750 [==============================] - 0s 35us/sample - loss: 0.6914 - acc: 0.5307\n",
      "Epoch 19/100\n",
      "750/750 [==============================] - 0s 27us/sample - loss: 0.6914 - acc: 0.5307\n",
      "Epoch 20/100\n",
      "750/750 [==============================] - 0s 32us/sample - loss: 0.6914 - acc: 0.5307\n",
      "Epoch 21/100\n",
      "750/750 [==============================] - 0s 27us/sample - loss: 0.6914 - acc: 0.5307\n",
      "Epoch 22/100\n",
      "750/750 [==============================] - 0s 33us/sample - loss: 0.6913 - acc: 0.5307\n",
      "Epoch 23/100\n",
      "750/750 [==============================] - 0s 29us/sample - loss: 0.6913 - acc: 0.5307\n",
      "Epoch 24/100\n",
      "750/750 [==============================] - 0s 33us/sample - loss: 0.6913 - acc: 0.5307\n",
      "Epoch 25/100\n",
      "750/750 [==============================] - 0s 28us/sample - loss: 0.6913 - acc: 0.5307\n",
      "Epoch 26/100\n",
      "750/750 [==============================] - 0s 31us/sample - loss: 0.6913 - acc: 0.5307\n",
      "Epoch 27/100\n",
      "750/750 [==============================] - 0s 27us/sample - loss: 0.6913 - acc: 0.5307\n",
      "Epoch 28/100\n",
      "750/750 [==============================] - 0s 33us/sample - loss: 0.6913 - acc: 0.5307\n",
      "Epoch 29/100\n",
      "750/750 [==============================] - 0s 31us/sample - loss: 0.6913 - acc: 0.5307\n",
      "Epoch 30/100\n",
      "750/750 [==============================] - 0s 31us/sample - loss: 0.6913 - acc: 0.5307\n",
      "Epoch 31/100\n",
      "750/750 [==============================] - 0s 33us/sample - loss: 0.6914 - acc: 0.5307\n",
      "Epoch 32/100\n",
      "750/750 [==============================] - 0s 29us/sample - loss: 0.6913 - acc: 0.5307\n",
      "Epoch 33/100\n",
      "750/750 [==============================] - 0s 32us/sample - loss: 0.6913 - acc: 0.5307\n",
      "Epoch 34/100\n",
      "750/750 [==============================] - 0s 28us/sample - loss: 0.6913 - acc: 0.5307\n",
      "Epoch 35/100\n",
      "750/750 [==============================] - 0s 33us/sample - loss: 0.6913 - acc: 0.5307\n",
      "Epoch 36/100\n",
      "750/750 [==============================] - 0s 28us/sample - loss: 0.6913 - acc: 0.5307\n",
      "Epoch 37/100\n",
      "750/750 [==============================] - 0s 29us/sample - loss: 0.6913 - acc: 0.5307\n",
      "Epoch 38/100\n",
      "750/750 [==============================] - 0s 31us/sample - loss: 0.6913 - acc: 0.5307\n",
      "Epoch 39/100\n",
      "750/750 [==============================] - 0s 31us/sample - loss: 0.6913 - acc: 0.5307\n",
      "Epoch 40/100\n",
      "750/750 [==============================] - 0s 29us/sample - loss: 0.6913 - acc: 0.5307\n",
      "Epoch 41/100\n",
      "750/750 [==============================] - 0s 28us/sample - loss: 0.6913 - acc: 0.5307\n",
      "Epoch 42/100\n",
      "750/750 [==============================] - 0s 33us/sample - loss: 0.6913 - acc: 0.5307\n",
      "Epoch 43/100\n",
      "750/750 [==============================] - 0s 33us/sample - loss: 0.6913 - acc: 0.5307\n",
      "Epoch 44/100\n",
      "750/750 [==============================] - 0s 31us/sample - loss: 0.6913 - acc: 0.5307\n",
      "Epoch 45/100\n",
      "750/750 [==============================] - 0s 29us/sample - loss: 0.6913 - acc: 0.5307\n",
      "Epoch 46/100\n",
      "750/750 [==============================] - 0s 29us/sample - loss: 0.6913 - acc: 0.5307\n",
      "Epoch 47/100\n",
      "750/750 [==============================] - 0s 31us/sample - loss: 0.6913 - acc: 0.5307\n",
      "Epoch 48/100\n",
      "750/750 [==============================] - 0s 32us/sample - loss: 0.6913 - acc: 0.5307\n",
      "Epoch 49/100\n",
      "750/750 [==============================] - 0s 29us/sample - loss: 0.6913 - acc: 0.5307\n",
      "Epoch 50/100\n",
      "750/750 [==============================] - 0s 33us/sample - loss: 0.6913 - acc: 0.5307\n",
      "Epoch 51/100\n",
      "750/750 [==============================] - 0s 40us/sample - loss: 0.6913 - acc: 0.5307\n",
      "Epoch 52/100\n",
      "750/750 [==============================] - 0s 37us/sample - loss: 0.6913 - acc: 0.5307\n",
      "Epoch 53/100\n",
      "750/750 [==============================] - 0s 33us/sample - loss: 0.6913 - acc: 0.5307\n",
      "Epoch 54/100\n",
      "750/750 [==============================] - 0s 29us/sample - loss: 0.6913 - acc: 0.5307\n",
      "Epoch 55/100\n",
      "750/750 [==============================] - 0s 32us/sample - loss: 0.6913 - acc: 0.5307\n",
      "Epoch 56/100\n",
      "750/750 [==============================] - 0s 28us/sample - loss: 0.6913 - acc: 0.5307\n",
      "Epoch 57/100\n",
      "750/750 [==============================] - 0s 29us/sample - loss: 0.6913 - acc: 0.5307\n",
      "Epoch 58/100\n",
      "750/750 [==============================] - 0s 29us/sample - loss: 0.6913 - acc: 0.5307\n",
      "Epoch 59/100\n",
      "750/750 [==============================] - 0s 27us/sample - loss: 0.6913 - acc: 0.5307\n",
      "Epoch 60/100\n",
      "750/750 [==============================] - 0s 29us/sample - loss: 0.6913 - acc: 0.5307\n",
      "Epoch 61/100\n",
      "750/750 [==============================] - 0s 31us/sample - loss: 0.6913 - acc: 0.5307\n",
      "Epoch 62/100\n",
      "750/750 [==============================] - 0s 28us/sample - loss: 0.6913 - acc: 0.5307\n",
      "Epoch 63/100\n",
      "750/750 [==============================] - 0s 28us/sample - loss: 0.6913 - acc: 0.5307\n",
      "Epoch 64/100\n",
      "750/750 [==============================] - 0s 29us/sample - loss: 0.6913 - acc: 0.5307\n",
      "Epoch 65/100\n",
      "750/750 [==============================] - 0s 28us/sample - loss: 0.6913 - acc: 0.5307\n",
      "Epoch 66/100\n",
      "750/750 [==============================] - 0s 28us/sample - loss: 0.6913 - acc: 0.5307\n",
      "Epoch 67/100\n",
      "750/750 [==============================] - 0s 27us/sample - loss: 0.6913 - acc: 0.5307\n",
      "Epoch 68/100\n",
      "750/750 [==============================] - 0s 27us/sample - loss: 0.6913 - acc: 0.5307\n",
      "Epoch 69/100\n",
      "750/750 [==============================] - 0s 28us/sample - loss: 0.6913 - acc: 0.5307\n",
      "Epoch 70/100\n",
      "750/750 [==============================] - 0s 28us/sample - loss: 0.6913 - acc: 0.5307\n",
      "Epoch 71/100\n",
      "750/750 [==============================] - 0s 28us/sample - loss: 0.6913 - acc: 0.5307\n",
      "Epoch 72/100\n",
      "750/750 [==============================] - 0s 32us/sample - loss: 0.6913 - acc: 0.5307\n",
      "Epoch 73/100\n",
      "750/750 [==============================] - 0s 27us/sample - loss: 0.6913 - acc: 0.5307\n",
      "Epoch 74/100\n",
      "750/750 [==============================] - 0s 28us/sample - loss: 0.6913 - acc: 0.5307\n",
      "Epoch 75/100\n",
      "750/750 [==============================] - 0s 27us/sample - loss: 0.6913 - acc: 0.5307\n",
      "Epoch 76/100\n",
      "750/750 [==============================] - 0s 28us/sample - loss: 0.6913 - acc: 0.5307\n",
      "Epoch 77/100\n",
      "750/750 [==============================] - 0s 28us/sample - loss: 0.6913 - acc: 0.5307\n",
      "Epoch 78/100\n",
      "750/750 [==============================] - 0s 29us/sample - loss: 0.6913 - acc: 0.5307\n",
      "Epoch 79/100\n",
      "750/750 [==============================] - 0s 29us/sample - loss: 0.6913 - acc: 0.5307\n",
      "Epoch 80/100\n",
      "750/750 [==============================] - 0s 29us/sample - loss: 0.6913 - acc: 0.5307\n",
      "Epoch 81/100\n",
      "750/750 [==============================] - 0s 31us/sample - loss: 0.6913 - acc: 0.5307\n",
      "Epoch 82/100\n",
      "750/750 [==============================] - 0s 29us/sample - loss: 0.6913 - acc: 0.5307\n",
      "Epoch 83/100\n"
     ]
    },
    {
     "name": "stdout",
     "output_type": "stream",
     "text": [
      "750/750 [==============================] - 0s 33us/sample - loss: 0.6913 - acc: 0.5307\n",
      "Epoch 84/100\n",
      "750/750 [==============================] - 0s 29us/sample - loss: 0.6913 - acc: 0.5307\n",
      "Epoch 85/100\n",
      "750/750 [==============================] - 0s 31us/sample - loss: 0.6913 - acc: 0.5307\n",
      "Epoch 86/100\n",
      "750/750 [==============================] - 0s 29us/sample - loss: 0.6913 - acc: 0.5307\n",
      "Epoch 87/100\n",
      "750/750 [==============================] - 0s 29us/sample - loss: 0.6913 - acc: 0.5307\n",
      "Epoch 88/100\n",
      "750/750 [==============================] - 0s 27us/sample - loss: 0.6913 - acc: 0.5307\n",
      "Epoch 89/100\n",
      "750/750 [==============================] - 0s 27us/sample - loss: 0.6913 - acc: 0.5307\n",
      "Epoch 90/100\n",
      "750/750 [==============================] - 0s 28us/sample - loss: 0.6913 - acc: 0.5307\n",
      "Epoch 91/100\n",
      "750/750 [==============================] - 0s 28us/sample - loss: 0.6913 - acc: 0.5307\n",
      "Epoch 92/100\n",
      "750/750 [==============================] - 0s 25us/sample - loss: 0.6913 - acc: 0.5307\n",
      "Epoch 93/100\n",
      "750/750 [==============================] - 0s 29us/sample - loss: 0.6913 - acc: 0.5307\n",
      "Epoch 94/100\n",
      "750/750 [==============================] - 0s 27us/sample - loss: 0.6913 - acc: 0.5307\n",
      "Epoch 95/100\n",
      "750/750 [==============================] - 0s 27us/sample - loss: 0.6913 - acc: 0.5307\n",
      "Epoch 96/100\n",
      "750/750 [==============================] - 0s 28us/sample - loss: 0.6913 - acc: 0.5307\n",
      "Epoch 97/100\n",
      "750/750 [==============================] - 0s 27us/sample - loss: 0.6913 - acc: 0.5307\n",
      "Epoch 98/100\n",
      "750/750 [==============================] - 0s 31us/sample - loss: 0.6913 - acc: 0.5307\n",
      "Epoch 99/100\n",
      "750/750 [==============================] - 0s 28us/sample - loss: 0.6913 - acc: 0.5307\n",
      "Epoch 100/100\n",
      "750/750 [==============================] - 0s 28us/sample - loss: 0.6913 - acc: 0.5307\n"
     ]
    }
   ],
   "source": [
    "# Training the model with the nonlinear data\n",
    "model_moon = nn_model.fit(X_moon_train_scaled, y_moon_train, epochs=100, shuffle=True)"
   ]
  },
  {
   "cell_type": "code",
   "execution_count": 19,
   "metadata": {},
   "outputs": [
    {
     "data": {
      "text/plain": [
       "<matplotlib.axes._subplots.AxesSubplot at 0x259936d2248>"
      ]
     },
     "execution_count": 19,
     "metadata": {},
     "output_type": "execute_result"
    },
    {
     "data": {
      "image/png": "[encoded data removed]",
      "text/plain": [
       "<Figure size 432x288 with 1 Axes>"
      ]
     },
     "metadata": {
      "needs_background": "light"
     },
     "output_type": "display_data"
    }
   ],
   "source": [
    "# Create a DataFrame containing training history\n",
    "history_df = pd.DataFrame(model_moon.history, index=range(1,len(model_moon.history[\"loss\"])+1))\n",
    "\n",
    "# Plot the loss\n",
    "history_df.plot(y=\"loss\")"
   ]
  },
  {
   "cell_type": "code",
   "execution_count": 20,
   "metadata": {},
   "outputs": [
    {
     "data": {
      "text/plain": [
       "<matplotlib.axes._subplots.AxesSubplot at 0x259946d8908>"
      ]
     },
     "execution_count": 20,
     "metadata": {},
     "output_type": "execute_result"
    },
    {
     "data": {
      "image/png": "[encoded data removed]",
      "text/plain": [
       "<Figure size 432x288 with 1 Axes>"
      ]
     },
     "metadata": {
      "needs_background": "light"
     },
     "output_type": "display_data"
    }
   ],
   "source": [
    "# Plot the loss\n",
    "history_df.plot(y=\"acc\")"
   ]
  },
  {
   "cell_type": "code",
   "execution_count": 21,
   "metadata": {},
   "outputs": [],
   "source": [
    "# Generate our new Sequential model\n",
    "new_model = tf.keras.models.Sequential()"
   ]
  },
  {
   "cell_type": "code",
   "execution_count": 22,
   "metadata": {},
   "outputs": [],
   "source": [
    "# Add the input and hidden layer\n",
    "number_inputs = 2\n",
    "number_hidden_nodes = 6\n",
    "\n",
    "new_model.add(tf.keras.layers.Dense(units=number_hidden_nodes, activation=\"relu\", input_dim=number_inputs))\n",
    "\n",
    "# Add the output layer that uses a probability activation function\n",
    "new_model.add(tf.keras.layers.Dense(units=1, activation=\"sigmoid\"))"
   ]
  },
  {
   "cell_type": "code",
   "execution_count": 23,
   "metadata": {},
   "outputs": [
    {
     "name": "stdout",
     "output_type": "stream",
     "text": [
      "Epoch 1/100\n",
      "750/750 [==============================] - 0s 137us/sample - loss: 0.7377 - acc: 0.4720\n",
      "Epoch 2/100\n",
      "750/750 [==============================] - 0s 32us/sample - loss: 0.6899 - acc: 0.5347\n",
      "Epoch 3/100\n",
      "750/750 [==============================] - 0s 32us/sample - loss: 0.6456 - acc: 0.6120\n",
      "Epoch 4/100\n",
      "750/750 [==============================] - 0s 36us/sample - loss: 0.6070 - acc: 0.7867\n",
      "Epoch 5/100\n",
      "750/750 [==============================] - 0s 33us/sample - loss: 0.5715 - acc: 0.8400\n",
      "Epoch 6/100\n",
      "750/750 [==============================] - 0s 33us/sample - loss: 0.5398 - acc: 0.8507\n",
      "Epoch 7/100\n",
      "750/750 [==============================] - 0s 38us/sample - loss: 0.5114 - acc: 0.8560\n",
      "Epoch 8/100\n",
      "750/750 [==============================] - 0s 32us/sample - loss: 0.4854 - acc: 0.8627\n",
      "Epoch 9/100\n",
      "750/750 [==============================] - 0s 33us/sample - loss: 0.4619 - acc: 0.8640\n",
      "Epoch 10/100\n",
      "750/750 [==============================] - 0s 35us/sample - loss: 0.4406 - acc: 0.8680\n",
      "Epoch 11/100\n",
      "750/750 [==============================] - 0s 33us/sample - loss: 0.4213 - acc: 0.8733\n",
      "Epoch 12/100\n",
      "750/750 [==============================] - 0s 32us/sample - loss: 0.4039 - acc: 0.8747\n",
      "Epoch 13/100\n",
      "750/750 [==============================] - 0s 31us/sample - loss: 0.3884 - acc: 0.8773\n",
      "Epoch 14/100\n",
      "750/750 [==============================] - 0s 33us/sample - loss: 0.3745 - acc: 0.8800\n",
      "Epoch 15/100\n",
      "750/750 [==============================] - 0s 36us/sample - loss: 0.3619 - acc: 0.8800\n",
      "Epoch 16/100\n",
      "750/750 [==============================] - 0s 29us/sample - loss: 0.3506 - acc: 0.8787\n",
      "Epoch 17/100\n",
      "750/750 [==============================] - 0s 36us/sample - loss: 0.3404 - acc: 0.8787\n",
      "Epoch 18/100\n",
      "750/750 [==============================] - 0s 29us/sample - loss: 0.3312 - acc: 0.8800\n",
      "Epoch 19/100\n",
      "750/750 [==============================] - 0s 36us/sample - loss: 0.3229 - acc: 0.8800\n",
      "Epoch 20/100\n",
      "750/750 [==============================] - 0s 35us/sample - loss: 0.3153 - acc: 0.8800\n",
      "Epoch 21/100\n",
      "750/750 [==============================] - 0s 33us/sample - loss: 0.3084 - acc: 0.8827\n",
      "Epoch 22/100\n",
      "750/750 [==============================] - 0s 36us/sample - loss: 0.3023 - acc: 0.8827\n",
      "Epoch 23/100\n",
      "750/750 [==============================] - 0s 29us/sample - loss: 0.2967 - acc: 0.8867\n",
      "Epoch 24/100\n",
      "750/750 [==============================] - 0s 29us/sample - loss: 0.2916 - acc: 0.8880\n",
      "Epoch 25/100\n",
      "750/750 [==============================] - 0s 36us/sample - loss: 0.2870 - acc: 0.8880\n",
      "Epoch 26/100\n",
      "750/750 [==============================] - 0s 27us/sample - loss: 0.2828 - acc: 0.8880\n",
      "Epoch 27/100\n",
      "750/750 [==============================] - 0s 35us/sample - loss: 0.2791 - acc: 0.8880\n",
      "Epoch 28/100\n",
      "750/750 [==============================] - 0s 27us/sample - loss: 0.2755 - acc: 0.8893\n",
      "Epoch 29/100\n",
      "750/750 [==============================] - 0s 29us/sample - loss: 0.2721 - acc: 0.8893\n",
      "Epoch 30/100\n",
      "750/750 [==============================] - 0s 32us/sample - loss: 0.2691 - acc: 0.8893\n",
      "Epoch 31/100\n",
      "750/750 [==============================] - 0s 31us/sample - loss: 0.2664 - acc: 0.8893\n",
      "Epoch 32/100\n",
      "750/750 [==============================] - 0s 32us/sample - loss: 0.2637 - acc: 0.8893\n",
      "Epoch 33/100\n",
      "750/750 [==============================] - 0s 33us/sample - loss: 0.2612 - acc: 0.8893\n",
      "Epoch 34/100\n",
      "750/750 [==============================] - 0s 31us/sample - loss: 0.2589 - acc: 0.8907\n",
      "Epoch 35/100\n",
      "750/750 [==============================] - 0s 37us/sample - loss: 0.2567 - acc: 0.8920\n",
      "Epoch 36/100\n",
      "750/750 [==============================] - 0s 36us/sample - loss: 0.2547 - acc: 0.8920\n",
      "Epoch 37/100\n",
      "750/750 [==============================] - 0s 33us/sample - loss: 0.2529 - acc: 0.8920\n",
      "Epoch 38/100\n",
      "750/750 [==============================] - 0s 32us/sample - loss: 0.2510 - acc: 0.8960\n",
      "Epoch 39/100\n",
      "750/750 [==============================] - 0s 29us/sample - loss: 0.2493 - acc: 0.8987\n",
      "Epoch 40/100\n",
      "750/750 [==============================] - 0s 32us/sample - loss: 0.2476 - acc: 0.9000\n",
      "Epoch 41/100\n",
      "750/750 [==============================] - 0s 29us/sample - loss: 0.2461 - acc: 0.9000\n",
      "Epoch 42/100\n",
      "750/750 [==============================] - 0s 31us/sample - loss: 0.2445 - acc: 0.9000\n",
      "Epoch 43/100\n",
      "750/750 [==============================] - 0s 29us/sample - loss: 0.2431 - acc: 0.9000\n",
      "Epoch 44/100\n",
      "750/750 [==============================] - 0s 29us/sample - loss: 0.2418 - acc: 0.9013\n",
      "Epoch 45/100\n",
      "750/750 [==============================] - 0s 29us/sample - loss: 0.2404 - acc: 0.9027\n",
      "Epoch 46/100\n",
      "750/750 [==============================] - 0s 27us/sample - loss: 0.2392 - acc: 0.9040\n",
      "Epoch 47/100\n",
      "750/750 [==============================] - 0s 29us/sample - loss: 0.2379 - acc: 0.9040\n",
      "Epoch 48/100\n",
      "750/750 [==============================] - 0s 28us/sample - loss: 0.2369 - acc: 0.9040\n",
      "Epoch 49/100\n",
      "750/750 [==============================] - 0s 29us/sample - loss: 0.2357 - acc: 0.9040\n",
      "Epoch 50/100\n",
      "750/750 [==============================] - 0s 28us/sample - loss: 0.2348 - acc: 0.9040\n",
      "Epoch 51/100\n",
      "750/750 [==============================] - 0s 32us/sample - loss: 0.2336 - acc: 0.9053\n",
      "Epoch 52/100\n",
      "750/750 [==============================] - 0s 27us/sample - loss: 0.2326 - acc: 0.9053\n",
      "Epoch 53/100\n",
      "750/750 [==============================] - 0s 35us/sample - loss: 0.2317 - acc: 0.9053\n",
      "Epoch 54/100\n",
      "750/750 [==============================] - 0s 28us/sample - loss: 0.2307 - acc: 0.9053\n",
      "Epoch 55/100\n",
      "750/750 [==============================] - 0s 28us/sample - loss: 0.2297 - acc: 0.9053\n",
      "Epoch 56/100\n",
      "750/750 [==============================] - 0s 25us/sample - loss: 0.2289 - acc: 0.9053\n",
      "Epoch 57/100\n",
      "750/750 [==============================] - 0s 31us/sample - loss: 0.2279 - acc: 0.9080\n",
      "Epoch 58/100\n",
      "750/750 [==============================] - 0s 27us/sample - loss: 0.2269 - acc: 0.9080\n",
      "Epoch 59/100\n",
      "750/750 [==============================] - 0s 31us/sample - loss: 0.2260 - acc: 0.9080\n",
      "Epoch 60/100\n",
      "750/750 [==============================] - 0s 27us/sample - loss: 0.2251 - acc: 0.9080\n",
      "Epoch 61/100\n",
      "750/750 [==============================] - 0s 29us/sample - loss: 0.2242 - acc: 0.9093\n",
      "Epoch 62/100\n",
      "750/750 [==============================] - 0s 29us/sample - loss: 0.2234 - acc: 0.9093\n",
      "Epoch 63/100\n",
      "750/750 [==============================] - 0s 28us/sample - loss: 0.2225 - acc: 0.9107\n",
      "Epoch 64/100\n",
      "750/750 [==============================] - 0s 29us/sample - loss: 0.2217 - acc: 0.9107\n",
      "Epoch 65/100\n",
      "750/750 [==============================] - 0s 28us/sample - loss: 0.2209 - acc: 0.9093\n",
      "Epoch 66/100\n",
      "750/750 [==============================] - 0s 28us/sample - loss: 0.2199 - acc: 0.9093\n",
      "Epoch 67/100\n",
      "750/750 [==============================] - 0s 28us/sample - loss: 0.2190 - acc: 0.9093\n",
      "Epoch 68/100\n",
      "750/750 [==============================] - 0s 32us/sample - loss: 0.2182 - acc: 0.9093\n",
      "Epoch 69/100\n",
      "750/750 [==============================] - 0s 28us/sample - loss: 0.2172 - acc: 0.9093\n",
      "Epoch 70/100\n",
      "750/750 [==============================] - 0s 28us/sample - loss: 0.2163 - acc: 0.9080\n",
      "Epoch 71/100\n",
      "750/750 [==============================] - 0s 28us/sample - loss: 0.2154 - acc: 0.9080\n",
      "Epoch 72/100\n",
      "750/750 [==============================] - 0s 27us/sample - loss: 0.2148 - acc: 0.9093\n",
      "Epoch 73/100\n",
      "750/750 [==============================] - 0s 28us/sample - loss: 0.2137 - acc: 0.9080\n",
      "Epoch 74/100\n",
      "750/750 [==============================] - 0s 29us/sample - loss: 0.2128 - acc: 0.9080\n",
      "Epoch 75/100\n",
      "750/750 [==============================] - 0s 28us/sample - loss: 0.2118 - acc: 0.9093\n",
      "Epoch 76/100\n",
      "750/750 [==============================] - 0s 27us/sample - loss: 0.2108 - acc: 0.9107\n",
      "Epoch 77/100\n",
      "750/750 [==============================] - 0s 29us/sample - loss: 0.2098 - acc: 0.9107\n",
      "Epoch 78/100\n",
      "750/750 [==============================] - 0s 27us/sample - loss: 0.2088 - acc: 0.9107\n",
      "Epoch 79/100\n",
      "750/750 [==============================] - 0s 27us/sample - loss: 0.2080 - acc: 0.9107\n",
      "Epoch 80/100\n",
      "750/750 [==============================] - 0s 28us/sample - loss: 0.2068 - acc: 0.9120\n",
      "Epoch 81/100\n",
      "750/750 [==============================] - 0s 28us/sample - loss: 0.2058 - acc: 0.9120\n",
      "Epoch 82/100\n",
      "750/750 [==============================] - 0s 28us/sample - loss: 0.2046 - acc: 0.9120\n"
     ]
    },
    {
     "name": "stdout",
     "output_type": "stream",
     "text": [
      "Epoch 83/100\n",
      "750/750 [==============================] - 0s 28us/sample - loss: 0.2035 - acc: 0.9120\n",
      "Epoch 84/100\n",
      "750/750 [==============================] - 0s 27us/sample - loss: 0.2025 - acc: 0.9120\n",
      "Epoch 85/100\n",
      "750/750 [==============================] - 0s 29us/sample - loss: 0.2014 - acc: 0.9133\n",
      "Epoch 86/100\n",
      "750/750 [==============================] - 0s 27us/sample - loss: 0.2002 - acc: 0.9133\n",
      "Epoch 87/100\n",
      "750/750 [==============================] - 0s 28us/sample - loss: 0.1992 - acc: 0.9133\n",
      "Epoch 88/100\n",
      "750/750 [==============================] - 0s 28us/sample - loss: 0.1980 - acc: 0.9133\n",
      "Epoch 89/100\n",
      "750/750 [==============================] - 0s 25us/sample - loss: 0.1969 - acc: 0.9133\n",
      "Epoch 90/100\n",
      "750/750 [==============================] - 0s 27us/sample - loss: 0.1958 - acc: 0.9133\n",
      "Epoch 91/100\n",
      "750/750 [==============================] - 0s 29us/sample - loss: 0.1946 - acc: 0.9173\n",
      "Epoch 92/100\n",
      "750/750 [==============================] - 0s 27us/sample - loss: 0.1934 - acc: 0.9173\n",
      "Epoch 93/100\n",
      "750/750 [==============================] - 0s 29us/sample - loss: 0.1923 - acc: 0.9173\n",
      "Epoch 94/100\n",
      "750/750 [==============================] - 0s 27us/sample - loss: 0.1912 - acc: 0.9173\n",
      "Epoch 95/100\n",
      "750/750 [==============================] - 0s 25us/sample - loss: 0.1899 - acc: 0.9173\n",
      "Epoch 96/100\n",
      "750/750 [==============================] - 0s 28us/sample - loss: 0.1887 - acc: 0.9173\n",
      "Epoch 97/100\n",
      "750/750 [==============================] - 0s 27us/sample - loss: 0.1875 - acc: 0.9187\n",
      "Epoch 98/100\n",
      "750/750 [==============================] - 0s 25us/sample - loss: 0.1862 - acc: 0.9187\n",
      "Epoch 99/100\n",
      "750/750 [==============================] - 0s 29us/sample - loss: 0.1850 - acc: 0.9187\n",
      "Epoch 100/100\n",
      "750/750 [==============================] - 0s 27us/sample - loss: 0.1838 - acc: 0.9187\n"
     ]
    }
   ],
   "source": [
    "# Compile the Sequential model together and customize metrics\n",
    "new_model.compile(loss=\"binary_crossentropy\", optimizer=\"adam\", metrics=[\"accuracy\"])\n",
    "\n",
    "# Fit the model to the training data\n",
    "new_fit_model = new_model.fit(X_moon_train_scaled, y_moon_train, epochs=100, shuffle=True)"
   ]
  },
  {
   "cell_type": "code",
   "execution_count": null,
   "metadata": {},
   "outputs": [],
   "source": []
  }
 ],
 "metadata": {
  "kernelspec": {
   "display_name": "PythonData",
   "language": "python",
   "name": "pythondata"
  },
  "language_info": {
   "codemirror_mode": {
    "name": "ipython",
    "version": 3
   },
   "file_extension": ".py",
   "mimetype": "text/x-python",
   "name": "python",
   "nbconvert_exporter": "python",
   "pygments_lexer": "ipython3",
   "version": "3.7.7"
  }
 },
 "nbformat": 4,
 "nbformat_minor": 4
}
